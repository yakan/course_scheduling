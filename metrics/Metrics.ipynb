{
 "cells": [
  {
   "cell_type": "code",
   "execution_count": 120,
   "metadata": {},
   "outputs": [
    {
     "data": {
      "text/html": [
       "<div>\n",
       "<style>\n",
       "    .dataframe thead tr:only-child th {\n",
       "        text-align: right;\n",
       "    }\n",
       "\n",
       "    .dataframe thead th {\n",
       "        text-align: left;\n",
       "    }\n",
       "\n",
       "    .dataframe tbody tr th {\n",
       "        vertical-align: top;\n",
       "    }\n",
       "</style>\n",
       "<table border=\"1\" class=\"dataframe\">\n",
       "  <thead>\n",
       "    <tr style=\"text-align: right;\">\n",
       "      <th></th>\n",
       "      <th>Term</th>\n",
       "      <th>Section</th>\n",
       "      <th>Department</th>\n",
       "      <th>Begin</th>\n",
       "      <th>Days</th>\n",
       "      <th>End</th>\n",
       "      <th>Room</th>\n",
       "      <th>Registered</th>\n",
       "      <th>Size</th>\n",
       "    </tr>\n",
       "  </thead>\n",
       "  <tbody>\n",
       "    <tr>\n",
       "      <th>2894</th>\n",
       "      <td>20172</td>\n",
       "      <td>66746</td>\n",
       "      <td>BUCO</td>\n",
       "      <td>12:00:00</td>\n",
       "      <td>MW</td>\n",
       "      <td>14:20:00</td>\n",
       "      <td>JFF312</td>\n",
       "      <td>17</td>\n",
       "      <td>20.0</td>\n",
       "    </tr>\n",
       "    <tr>\n",
       "      <th>2895</th>\n",
       "      <td>20172</td>\n",
       "      <td>66763</td>\n",
       "      <td>BUCO</td>\n",
       "      <td>15:00:00</td>\n",
       "      <td>TH</td>\n",
       "      <td>17:20:00</td>\n",
       "      <td>JFF327</td>\n",
       "      <td>17</td>\n",
       "      <td>36.0</td>\n",
       "    </tr>\n",
       "    <tr>\n",
       "      <th>2896</th>\n",
       "      <td>20172</td>\n",
       "      <td>66757</td>\n",
       "      <td>BUCO</td>\n",
       "      <td>09:00:00</td>\n",
       "      <td>TH</td>\n",
       "      <td>11:20:00</td>\n",
       "      <td>JFF313</td>\n",
       "      <td>18</td>\n",
       "      <td>20.0</td>\n",
       "    </tr>\n",
       "    <tr>\n",
       "      <th>2897</th>\n",
       "      <td>20172</td>\n",
       "      <td>66742</td>\n",
       "      <td>BUCO</td>\n",
       "      <td>09:00:00</td>\n",
       "      <td>MW</td>\n",
       "      <td>11:20:00</td>\n",
       "      <td>JFF313</td>\n",
       "      <td>16</td>\n",
       "      <td>20.0</td>\n",
       "    </tr>\n",
       "    <tr>\n",
       "      <th>2898</th>\n",
       "      <td>20172</td>\n",
       "      <td>66750</td>\n",
       "      <td>BUCO</td>\n",
       "      <td>15:00:00</td>\n",
       "      <td>MW</td>\n",
       "      <td>17:20:00</td>\n",
       "      <td>JFF313</td>\n",
       "      <td>19</td>\n",
       "      <td>20.0</td>\n",
       "    </tr>\n",
       "  </tbody>\n",
       "</table>\n",
       "</div>"
      ],
      "text/plain": [
       "       Term  Section Department     Begin Days       End    Room  Registered  \\\n",
       "2894  20172    66746       BUCO  12:00:00   MW  14:20:00  JFF312          17   \n",
       "2895  20172    66763       BUCO  15:00:00   TH  17:20:00  JFF327          17   \n",
       "2896  20172    66757       BUCO  09:00:00   TH  11:20:00  JFF313          18   \n",
       "2897  20172    66742       BUCO  09:00:00   MW  11:20:00  JFF313          16   \n",
       "2898  20172    66750       BUCO  15:00:00   MW  17:20:00  JFF313          19   \n",
       "\n",
       "      Size  \n",
       "2894  20.0  \n",
       "2895  36.0  \n",
       "2896  20.0  \n",
       "2897  20.0  \n",
       "2898  20.0  "
      ]
     },
     "execution_count": 120,
     "metadata": {},
     "output_type": "execute_result"
    }
   ],
   "source": [
    "import pandas as pd\n",
    "import numpy as np\n",
    "import matplotlib.pyplot as plt\n",
    "\n",
    "# Read in data into \n",
    "schedule=pd.read_excel('../data/Marshall_Course_Enrollment_1516_1617.xlsx') # last two years of schedules at Marshall\n",
    "capacities=pd.read_excel('../data/Marshall_Room_Capacity_Chart.xlsx') # rooms within marshall\n",
    "\n",
    "# combine datasets with key 'First Room' for schedule and key 'Room' for capacities\n",
    "data = (pd.merge(schedule, capacities, how = 'left', left_on= 'First Room', right_on='Room')\n",
    "       [['Term','Section','Department','First Begin Time','First Days','First End Time','First Room',\n",
    "         'Reg Count','Size']]\n",
    "       )\n",
    "\n",
    "# filter out courses which were not held in rooms within Marshall\n",
    "data = data[data['Size'].notnull()]\n",
    "\n",
    "# rename columns\n",
    "data = data.rename(columns={'First Begin Time':'Begin','First Days':'Days',\n",
    "                            'First End Time':'End','First Room':'Room','Reg Count':'Registered'})\n",
    "data.tail()"
   ]
  },
  {
   "cell_type": "code",
   "execution_count": 121,
   "metadata": {},
   "outputs": [],
   "source": [
    "# define a function to convert time\n",
    "def convert(inputTime):\n",
    "    # define convert function\n",
    "    try:\n",
    "        hh,mm,ss=str(inputTime).split(':')\n",
    "        ans=int(hh)+int(mm)/60+int(ss)/3600\n",
    "    except:\n",
    "        ans=np.nan\n",
    "    return ans"
   ]
  },
  {
   "cell_type": "code",
   "execution_count": 125,
   "metadata": {},
   "outputs": [],
   "source": [
    "# apply the convert function to begin time\n",
    "data['Begin'] = data['Begin'].apply(convert)"
   ]
  },
  {
   "cell_type": "code",
   "execution_count": 126,
   "metadata": {
    "collapsed": true
   },
   "outputs": [],
   "source": [
    "# apply the convert function to end time\n",
    "data['End'] = data['End'].apply(convert)"
   ]
  },
  {
   "cell_type": "code",
   "execution_count": 128,
   "metadata": {},
   "outputs": [
    {
     "data": {
      "text/html": [
       "<div>\n",
       "<style>\n",
       "    .dataframe thead tr:only-child th {\n",
       "        text-align: right;\n",
       "    }\n",
       "\n",
       "    .dataframe thead th {\n",
       "        text-align: left;\n",
       "    }\n",
       "\n",
       "    .dataframe tbody tr th {\n",
       "        vertical-align: top;\n",
       "    }\n",
       "</style>\n",
       "<table border=\"1\" class=\"dataframe\">\n",
       "  <thead>\n",
       "    <tr style=\"text-align: right;\">\n",
       "      <th></th>\n",
       "      <th>Term</th>\n",
       "      <th>Section</th>\n",
       "      <th>Department</th>\n",
       "      <th>Begin</th>\n",
       "      <th>Days</th>\n",
       "      <th>End</th>\n",
       "      <th>Room</th>\n",
       "      <th>Registered</th>\n",
       "      <th>Size</th>\n",
       "    </tr>\n",
       "  </thead>\n",
       "  <tbody>\n",
       "    <tr>\n",
       "      <th>2894</th>\n",
       "      <td>20172</td>\n",
       "      <td>66746</td>\n",
       "      <td>BUCO</td>\n",
       "      <td>12.0</td>\n",
       "      <td>MW</td>\n",
       "      <td>14.333333</td>\n",
       "      <td>JFF312</td>\n",
       "      <td>17</td>\n",
       "      <td>20.0</td>\n",
       "    </tr>\n",
       "    <tr>\n",
       "      <th>2895</th>\n",
       "      <td>20172</td>\n",
       "      <td>66763</td>\n",
       "      <td>BUCO</td>\n",
       "      <td>15.0</td>\n",
       "      <td>TH</td>\n",
       "      <td>17.333333</td>\n",
       "      <td>JFF327</td>\n",
       "      <td>17</td>\n",
       "      <td>36.0</td>\n",
       "    </tr>\n",
       "    <tr>\n",
       "      <th>2896</th>\n",
       "      <td>20172</td>\n",
       "      <td>66757</td>\n",
       "      <td>BUCO</td>\n",
       "      <td>9.0</td>\n",
       "      <td>TH</td>\n",
       "      <td>11.333333</td>\n",
       "      <td>JFF313</td>\n",
       "      <td>18</td>\n",
       "      <td>20.0</td>\n",
       "    </tr>\n",
       "    <tr>\n",
       "      <th>2897</th>\n",
       "      <td>20172</td>\n",
       "      <td>66742</td>\n",
       "      <td>BUCO</td>\n",
       "      <td>9.0</td>\n",
       "      <td>MW</td>\n",
       "      <td>11.333333</td>\n",
       "      <td>JFF313</td>\n",
       "      <td>16</td>\n",
       "      <td>20.0</td>\n",
       "    </tr>\n",
       "    <tr>\n",
       "      <th>2898</th>\n",
       "      <td>20172</td>\n",
       "      <td>66750</td>\n",
       "      <td>BUCO</td>\n",
       "      <td>15.0</td>\n",
       "      <td>MW</td>\n",
       "      <td>17.333333</td>\n",
       "      <td>JFF313</td>\n",
       "      <td>19</td>\n",
       "      <td>20.0</td>\n",
       "    </tr>\n",
       "  </tbody>\n",
       "</table>\n",
       "</div>"
      ],
      "text/plain": [
       "       Term  Section Department  Begin Days        End    Room  Registered  \\\n",
       "2894  20172    66746       BUCO   12.0   MW  14.333333  JFF312          17   \n",
       "2895  20172    66763       BUCO   15.0   TH  17.333333  JFF327          17   \n",
       "2896  20172    66757       BUCO    9.0   TH  11.333333  JFF313          18   \n",
       "2897  20172    66742       BUCO    9.0   MW  11.333333  JFF313          16   \n",
       "2898  20172    66750       BUCO   15.0   MW  17.333333  JFF313          19   \n",
       "\n",
       "      Size  \n",
       "2894  20.0  \n",
       "2895  36.0  \n",
       "2896  20.0  \n",
       "2897  20.0  \n",
       "2898  20.0  "
      ]
     },
     "execution_count": 128,
     "metadata": {},
     "output_type": "execute_result"
    }
   ],
   "source": [
    "data.tail()"
   ]
  },
  {
   "cell_type": "code",
   "execution_count": 130,
   "metadata": {},
   "outputs": [
    {
     "data": {
      "text/html": [
       "<div>\n",
       "<style>\n",
       "    .dataframe thead tr:only-child th {\n",
       "        text-align: right;\n",
       "    }\n",
       "\n",
       "    .dataframe thead th {\n",
       "        text-align: left;\n",
       "    }\n",
       "\n",
       "    .dataframe tbody tr th {\n",
       "        vertical-align: top;\n",
       "    }\n",
       "</style>\n",
       "<table border=\"1\" class=\"dataframe\">\n",
       "  <thead>\n",
       "    <tr style=\"text-align: right;\">\n",
       "      <th></th>\n",
       "      <th>Term</th>\n",
       "      <th>Section</th>\n",
       "      <th>Department</th>\n",
       "      <th>Begin</th>\n",
       "      <th>Days</th>\n",
       "      <th>End</th>\n",
       "      <th>Room</th>\n",
       "      <th>Registered</th>\n",
       "      <th>Size</th>\n",
       "    </tr>\n",
       "  </thead>\n",
       "  <tbody>\n",
       "    <tr>\n",
       "      <th>2827</th>\n",
       "      <td>20172</td>\n",
       "      <td>15595</td>\n",
       "      <td>ACCT</td>\n",
       "      <td>13.0</td>\n",
       "      <td>MW</td>\n",
       "      <td>15.416667</td>\n",
       "      <td>JKP202</td>\n",
       "      <td>39</td>\n",
       "      <td>54.0</td>\n",
       "    </tr>\n",
       "    <tr>\n",
       "      <th>2828</th>\n",
       "      <td>20172</td>\n",
       "      <td>15599</td>\n",
       "      <td>FBE</td>\n",
       "      <td>13.0</td>\n",
       "      <td>MW</td>\n",
       "      <td>15.416667</td>\n",
       "      <td>JKP110</td>\n",
       "      <td>35</td>\n",
       "      <td>77.0</td>\n",
       "    </tr>\n",
       "    <tr>\n",
       "      <th>2845</th>\n",
       "      <td>20172</td>\n",
       "      <td>15845</td>\n",
       "      <td>FBE</td>\n",
       "      <td>13.0</td>\n",
       "      <td>TH</td>\n",
       "      <td>15.416667</td>\n",
       "      <td>JKP110</td>\n",
       "      <td>40</td>\n",
       "      <td>77.0</td>\n",
       "    </tr>\n",
       "    <tr>\n",
       "      <th>2893</th>\n",
       "      <td>20172</td>\n",
       "      <td>66761</td>\n",
       "      <td>BUCO</td>\n",
       "      <td>12.0</td>\n",
       "      <td>TH</td>\n",
       "      <td>14.333333</td>\n",
       "      <td>JFF312</td>\n",
       "      <td>16</td>\n",
       "      <td>20.0</td>\n",
       "    </tr>\n",
       "    <tr>\n",
       "      <th>2894</th>\n",
       "      <td>20172</td>\n",
       "      <td>66746</td>\n",
       "      <td>BUCO</td>\n",
       "      <td>12.0</td>\n",
       "      <td>MW</td>\n",
       "      <td>14.333333</td>\n",
       "      <td>JFF312</td>\n",
       "      <td>17</td>\n",
       "      <td>20.0</td>\n",
       "    </tr>\n",
       "  </tbody>\n",
       "</table>\n",
       "</div>"
      ],
      "text/plain": [
       "       Term  Section Department  Begin Days        End    Room  Registered  \\\n",
       "2827  20172    15595       ACCT   13.0   MW  15.416667  JKP202          39   \n",
       "2828  20172    15599        FBE   13.0   MW  15.416667  JKP110          35   \n",
       "2845  20172    15845        FBE   13.0   TH  15.416667  JKP110          40   \n",
       "2893  20172    66761       BUCO   12.0   TH  14.333333  JFF312          16   \n",
       "2894  20172    66746       BUCO   12.0   MW  14.333333  JFF312          17   \n",
       "\n",
       "      Size  \n",
       "2827  54.0  \n",
       "2828  77.0  \n",
       "2845  77.0  \n",
       "2893  20.0  \n",
       "2894  20.0  "
      ]
     },
     "execution_count": 130,
     "metadata": {},
     "output_type": "execute_result"
    }
   ],
   "source": [
    "# filter out courses that were not held within prime time (10:00 - 16:00)\n",
    "dataTimeClean = data.drop(data[(data.Begin < float(10)) | (data.End > float(16))].index)\n",
    "dataTimeClean.tail()"
   ]
  },
  {
   "cell_type": "code",
   "execution_count": 133,
   "metadata": {},
   "outputs": [
    {
     "name": "stdout",
     "output_type": "stream",
     "text": [
      "Original data size: (1921, 9)\n",
      "data size after filtering prime time: (864, 9)\n"
     ]
    }
   ],
   "source": [
    "# check the number of observations after filtering\n",
    "print(\"Original data size:\", data.shape)\n",
    "print(\"Data size after filtering prime time:\", dataTimeClean.shape)"
   ]
  },
  {
   "cell_type": "code",
   "execution_count": 146,
   "metadata": {
    "collapsed": true
   },
   "outputs": [],
   "source": [
    "# define a dictionary for the dataframe aggregation\n",
    "aggregations = {\n",
    "    'Registered':'sum',\n",
    "    'Size': 'sum'\n",
    "}"
   ]
  },
  {
   "cell_type": "code",
   "execution_count": 143,
   "metadata": {},
   "outputs": [
    {
     "data": {
      "image/png": "[encoded data removed]",
      "text/plain": [
       "<matplotlib.figure.Figure at 0x1102e6080>"
      ]
     },
     "metadata": {},
     "output_type": "display_data"
    },
    {
     "data": {
      "image/png": "[encoded data removed]",
      "text/plain": [
       "<matplotlib.figure.Figure at 0x1194995f8>"
      ]
     },
     "metadata": {},
     "output_type": "display_data"
    },
    {
     "data": {
      "image/png": "[encoded data removed]",
      "text/plain": [
       "<matplotlib.figure.Figure at 0x1107c48d0>"
      ]
     },
     "metadata": {},
     "output_type": "display_data"
    },
    {
     "data": {
      "image/png": "[encoded data removed]",
      "text/plain": [
       "<matplotlib.figure.Figure at 0x1193a4c18>"
      ]
     },
     "metadata": {},
     "output_type": "display_data"
    },
    {
     "data": {
      "image/png": "[encoded data removed]",
      "text/plain": [
       "<matplotlib.figure.Figure at 0x1199025f8>"
      ]
     },
     "metadata": {},
     "output_type": "display_data"
    },
    {
     "data": {
      "image/png": "[encoded data removed]",
      "text/plain": [
       "<matplotlib.figure.Figure at 0x11a4ef7f0>"
      ]
     },
     "metadata": {},
     "output_type": "display_data"
    }
   ],
   "source": [
    "output = dataTimeClean\n",
    "\n",
    "# iterate through terms and calculate utilization\n",
    "# Utilization = the number of enrolled students (after add-drop date) / number of seats available\n",
    "# the output is grouped by Department and terms\n",
    "\n",
    "for term in [20153,20161,20162,20163,20171,20172]:\n",
    "        (output.query(\"Term==@term\")\n",
    "         .groupby('Department').agg(aggregations)\n",
    "         .assign(Utilization=lambda output: output.Registered/output.Size)\n",
    "         .reset_index(level=['Department'])\n",
    "         .sort_values(['Utilization'])\n",
    "         .plot(x='Department',y='Utilization',kind='bar', title='{0}'.format(term),figsize=(18,4),ylim=(0,1),legend=False)\n",
    "        )\n",
    "        \n",
    "plt.show()"
   ]
  },
  {
   "cell_type": "code",
   "execution_count": 193,
   "metadata": {},
   "outputs": [
    {
     "name": "stdout",
     "output_type": "stream",
     "text": [
      "Average seats utilization 20153: 0.71\n",
      "Average seats utilization 20161: 0.69\n",
      "Average seats utilization 20162: 0.61\n",
      "Average seats utilization 20163: 0.72\n",
      "Average seats utilization 20171: 0.67\n",
      "Average seats utilization 20172: 0.58\n"
     ]
    }
   ],
   "source": [
    "a = output.query(\"Term==20153\").agg(aggregations)\n",
    "b = output.query(\"Term==20161\").agg(aggregations)\n",
    "c = output.query(\"Term==20162\").agg(aggregations)\n",
    "d = output.query(\"Term==20163\").agg(aggregations)\n",
    "e = output.query(\"Term==20171\").agg(aggregations)\n",
    "f = output.query(\"Term==20172\").agg(aggregations)\n",
    "\n",
    "print('Average seats utilization 20153: {0:.2f}' .format(a.Registered/a.Size))\n",
    "print('Average seats utilization 20161: {0:.2f}' .format(b.Registered/b.Size))\n",
    "print('Average seats utilization 20162: {0:.2f}' .format(c.Registered/c.Size))\n",
    "print('Average seats utilization 20163: {0:.2f}' .format(d.Registered/d.Size))\n",
    "print('Average seats utilization 20171: {0:.2f}' .format(e.Registered/e.Size))\n",
    "print('Average seats utilization 20172: {0:.2f}' .format(f.Registered/f.Size))"
   ]
  },
  {
   "cell_type": "code",
   "execution_count": null,
   "metadata": {
    "collapsed": true
   },
   "outputs": [],
   "source": []
  }
 ],
 "metadata": {
  "kernelspec": {
   "display_name": "Python [default]",
   "language": "python",
   "name": "python3"
  },
  "language_info": {
   "codemirror_mode": {
    "name": "ipython",
    "version": 3
   },
   "file_extension": ".py",
   "mimetype": "text/x-python",
   "name": "python",
   "nbconvert_exporter": "python",
   "pygments_lexer": "ipython3",
   "version": "3.6.3"
  },
  "nbpresent": {
   "slides": {},
   "themes": {
    "default": "df69fb12-a96a-4ad0-bbaa-c73667f066c2",
    "theme": {}
   }
  }
 },
 "nbformat": 4,
 "nbformat_minor": 2
}
